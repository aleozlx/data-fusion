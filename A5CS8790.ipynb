{
 "cells": [
  {
   "cell_type": "code",
   "execution_count": 1,
   "metadata": {},
   "outputs": [],
   "source": [
    "function [z, R, H] = getObservation(fp)\n",
    "    d = fscanf(fp, \"%i\", \"C\");\n",
    "    if (d==1)\n",
    "      DATA = fscanf(fp, \"%f\", 5);\n",
    "      z = DATA(1);\n",
    "      R = DATA(2);\n",
    "      H = DATA(3:5)';\n",
    "    elseif (d==2)\n",
    "      DATA = fscanf(fp, \"%f\", 11);\n",
    "      z = DATA(1:2);\n",
    "      R = [DATA(3) DATA(4); DATA(4) DATA(5)];\n",
    "      H = reshape(DATA(6:11), [3,2])';\n",
    "      % reshape([1;2;3;4;5;6], [3,2])'\n",
    "    else\n",
    "      if (!feof(fp))\n",
    "        disp(\"Corrupt file.\")\n",
    "      endif\n",
    "      z = nan;\n",
    "      R = nan;\n",
    "      H = nan;\n",
    "    endif\n",
    "endfunction"
   ]
  },
  {
   "cell_type": "markdown",
   "metadata": {},
   "source": [
    "Test file parsing:"
   ]
  },
  {
   "cell_type": "code",
   "execution_count": 2,
   "metadata": {},
   "outputs": [
    {
     "name": "stdout",
     "output_type": "stream",
     "text": [
      "n_observations =  250\n"
     ]
    }
   ],
   "source": [
    "raw = fopen(\"data/A5-MeasurementData.txt\", \"r\");\n",
    "n_observations = 0;\n",
    "while (1)\n",
    "  [z, R, H] = getObservation(raw);\n",
    "  if (!isnan(z)) % NaN is used to represent EOF\n",
    "    n_observations += 1;\n",
    "  else\n",
    "    break;\n",
    "  endif\n",
    "endwhile\n",
    "fclose(raw);\n",
    "n_observations"
   ]
  },
  {
   "cell_type": "code",
   "execution_count": 3,
   "metadata": {},
   "outputs": [],
   "source": [
    "function [x_new P_new nv S] = update(x, P, z, R, H)\n",
    "  S = H * P * H' + R;\n",
    "  W = P * H' * inv(S);\n",
    "  nv = z - H * x;\n",
    "  x_new = x + W * nv;\n",
    "  P_new = P - W * S * W';\n",
    "endfunction"
   ]
  },
  {
   "cell_type": "markdown",
   "metadata": {},
   "source": [
    "## Filtering"
   ]
  },
  {
   "cell_type": "code",
   "execution_count": 4,
   "metadata": {},
   "outputs": [],
   "source": [
    "x = zeros(3, 1);\n",
    "P = 100 * eye(3);\n",
    "Nv = zeros(n_observations, 1);\n",
    "\n",
    "raw = fopen(\"data/A5-MeasurementData.txt\", \"r\");\n",
    "i = 1;\n",
    "while (1)\n",
    "  [z, R, H] = getObservation(raw);\n",
    "  if (!isnan(z))\n",
    "    [x P nu S] = update(x, P, z, R, H);\n",
    "    Nv(i) = nu(1) / sqrt(S(1, 1)); % normalized innovations\n",
    "    i += 1;\n",
    "  else\n",
    "    break;\n",
    "  endif\n",
    "endwhile\n",
    "fclose(raw);"
   ]
  },
  {
   "cell_type": "markdown",
   "metadata": {},
   "source": [
    "## 1. Normalized innovations"
   ]
  },
  {
   "cell_type": "code",
   "execution_count": 5,
   "metadata": {},
   "outputs": [
    {
     "data": {
      "image/png": "[encoded data removed]",
      "text/plain": [
       "<IPython.core.display.Image object>"
      ]
     },
     "metadata": {},
     "output_type": "display_data"
    }
   ],
   "source": [
    "plot(2:n_observations, Nv(2:n_observations))"
   ]
  },
  {
   "cell_type": "markdown",
   "metadata": {},
   "source": [
    "## 2. Comparison to randn()"
   ]
  },
  {
   "cell_type": "code",
   "execution_count": 6,
   "metadata": {},
   "outputs": [
    {
     "data": {
      "image/png": "[encoded data removed]",
      "text/plain": [
       "<IPython.core.display.Image object>"
      ]
     },
     "metadata": {},
     "output_type": "display_data"
    }
   ],
   "source": [
    "plot(2:n_observations, randn(n_observations-1, 1))"
   ]
  },
  {
   "cell_type": "markdown",
   "metadata": {},
   "source": [
    "# 3. Innovation signs"
   ]
  },
  {
   "cell_type": "code",
   "execution_count": 7,
   "metadata": {},
   "outputs": [
    {
     "name": "stdout",
     "output_type": "stream",
     "text": [
      "ans =  125\n"
     ]
    }
   ],
   "source": [
    "% Positive innovations\n",
    "sum(Nv(2:n_observations)>=0)"
   ]
  },
  {
   "cell_type": "code",
   "execution_count": 8,
   "metadata": {},
   "outputs": [
    {
     "name": "stdout",
     "output_type": "stream",
     "text": [
      "ans =  124\n"
     ]
    }
   ],
   "source": [
    "% Negative innovations\n",
    "sum(Nv(2:n_observations)<0)"
   ]
  },
  {
   "cell_type": "code",
   "execution_count": 9,
   "metadata": {},
   "outputs": [
    {
     "name": "stdout",
     "output_type": "stream",
     "text": [
      "ans =  61\n"
     ]
    }
   ],
   "source": [
    "% Positive innovations given a previous positive innovation\n",
    "sum((Nv(2:n_observations)>=0).*(Nv(1:n_observations-1)>=0))"
   ]
  },
  {
   "cell_type": "code",
   "execution_count": 10,
   "metadata": {},
   "outputs": [
    {
     "name": "stdout",
     "output_type": "stream",
     "text": [
      "ans =  64\n"
     ]
    }
   ],
   "source": [
    "% Positive innovations given a previous negative innovation\n",
    "sum((Nv(2:n_observations)>=0).*(Nv(1:n_observations-1)<=0))"
   ]
  },
  {
   "cell_type": "code",
   "execution_count": 11,
   "metadata": {},
   "outputs": [
    {
     "name": "stdout",
     "output_type": "stream",
     "text": [
      "ans =  65\n"
     ]
    }
   ],
   "source": [
    "% Negative innovations given a previous positive innovation\n",
    "sum((Nv(2:n_observations)<0).*(Nv(1:n_observations-1)>=0))"
   ]
  },
  {
   "cell_type": "code",
   "execution_count": 12,
   "metadata": {},
   "outputs": [
    {
     "name": "stdout",
     "output_type": "stream",
     "text": [
      "ans =  59\n"
     ]
    }
   ],
   "source": [
    "% Negative innovations given a previous negative innovation\n",
    "sum((Nv(2:n_observations)<0).*(Nv(1:n_observations-1)<0))"
   ]
  },
  {
   "cell_type": "markdown",
   "metadata": {},
   "source": [
    "In summary, based on the above observations, the signs of innovations have a demonstrated temporal independency, and a uniform distribution. It is safe to conclude that they are not streaky, but random."
   ]
  },
  {
   "cell_type": "markdown",
   "metadata": {},
   "source": [
    "## 4. Final estimated mean and covariance"
   ]
  },
  {
   "cell_type": "code",
   "execution_count": 13,
   "metadata": {},
   "outputs": [
    {
     "name": "stdout",
     "output_type": "stream",
     "text": [
      "x =\n",
      "\n",
      "     6.0923\n",
      "    27.9641\n",
      "   495.9276\n",
      "\n"
     ]
    }
   ],
   "source": [
    "x"
   ]
  },
  {
   "cell_type": "code",
   "execution_count": 14,
   "metadata": {},
   "outputs": [
    {
     "name": "stdout",
     "output_type": "stream",
     "text": [
      "P =\n",
      "\n",
      "   0.00779387   0.00021778   0.00025790\n",
      "   0.00021778   0.00790063   0.00010674\n",
      "   0.00025790   0.00010674   0.00783463\n",
      "\n"
     ]
    }
   ],
   "source": [
    "P"
   ]
  },
  {
   "cell_type": "code",
   "execution_count": null,
   "metadata": {},
   "outputs": [],
   "source": []
  }
 ],
 "metadata": {
  "kernelspec": {
   "display_name": "Octave",
   "language": "octave",
   "name": "octave"
  },
  "language_info": {
   "file_extension": ".m",
   "help_links": [
    {
     "text": "GNU Octave",
     "url": "https://www.gnu.org/software/octave/support.html"
    },
    {
     "text": "Octave Kernel",
     "url": "https://github.com/Calysto/octave_kernel"
    },
    {
     "text": "MetaKernel Magics",
     "url": "https://github.com/calysto/metakernel/blob/master/metakernel/magics/README.md"
    }
   ],
   "mimetype": "text/x-octave",
   "name": "octave",
   "version": "4.4.1"
  }
 },
 "nbformat": 4,
 "nbformat_minor": 2
}
