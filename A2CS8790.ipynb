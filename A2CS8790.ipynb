{
 "cells": [
  {
   "cell_type": "markdown",
   "metadata": {},
   "source": [
    "# Load calibration dataset\n",
    "\n",
    "The first step is to load the dataset from file.\n",
    "There are 10000 samples and they have 5 significant digits."
   ]
  },
  {
   "cell_type": "code",
   "execution_count": 1,
   "metadata": {},
   "outputs": [
    {
     "name": "stdout",
     "output_type": "stream",
     "text": [
      "ans =\n",
      "\n",
      "       1   10000\n",
      "\n"
     ]
    }
   ],
   "source": [
    "DATA = load(\"-ascii\", \"A2-CalibrationData.txt\");\n",
    "size(DATA)"
   ]
  },
  {
   "cell_type": "code",
   "execution_count": 2,
   "metadata": {},
   "outputs": [
    {
     "name": "stdout",
     "output_type": "stream",
     "text": [
      "ans =\n",
      "\n",
      "   31.017   31.019   31.020   31.022   31.019\n",
      "\n"
     ]
    }
   ],
   "source": [
    "DATA(1:5)"
   ]
  },
  {
   "cell_type": "markdown",
   "metadata": {},
   "source": [
    "# Descriptive statistics\n",
    "\n",
    "Here are some statistics about this dataset."
   ]
  },
  {
   "cell_type": "code",
   "execution_count": 3,
   "metadata": {},
   "outputs": [
    {
     "name": "stdout",
     "output_type": "stream",
     "text": [
      "m =  31.019\n",
      "s =  0.0019914\n"
     ]
    }
   ],
   "source": [
    "m = mean(DATA)\n",
    "s = std(DATA)"
   ]
  },
  {
   "cell_type": "markdown",
   "metadata": {},
   "source": [
    "# Bias and error variance of the sensor\n",
    "\n",
    "The bias is calculated by substracting the true melting point of fieldium from the mean of the calibration data on melting point of fieldium.\n",
    "\n",
    "The error variance is calculated by squaring the standard deviation considering the calibration data are samples."
   ]
  },
  {
   "cell_type": "code",
   "execution_count": 4,
   "metadata": {},
   "outputs": [
    {
     "name": "stdout",
     "output_type": "stream",
     "text": [
      "bias =  0.012356\n",
      "variance =  0.0000039658\n"
     ]
    }
   ],
   "source": [
    "bias = m - 31.006277\n",
    "variance = s^2"
   ]
  },
  {
   "cell_type": "markdown",
   "metadata": {},
   "source": [
    "# Estimated melting point of cerrolodium\n",
    "\n",
    "The estimated melting point of cerrolodium is computed by substracting the bias from the measured value (with the error variance above)."
   ]
  },
  {
   "cell_type": "code",
   "execution_count": 5,
   "metadata": {},
   "outputs": [
    {
     "name": "stdout",
     "output_type": "stream",
     "text": [
      "cerrolodium =  20.309\n"
     ]
    }
   ],
   "source": [
    "cerrolodium = 20.321318 - bias"
   ]
  },
  {
   "cell_type": "code",
   "execution_count": null,
   "metadata": {},
   "outputs": [],
   "source": []
  }
 ],
 "metadata": {
  "kernelspec": {
   "display_name": "Octave",
   "language": "octave",
   "name": "octave"
  },
  "language_info": {
   "file_extension": ".m",
   "help_links": [
    {
     "text": "GNU Octave",
     "url": "https://www.gnu.org/software/octave/support.html"
    },
    {
     "text": "Octave Kernel",
     "url": "https://github.com/Calysto/octave_kernel"
    },
    {
     "text": "MetaKernel Magics",
     "url": "https://github.com/calysto/metakernel/blob/master/metakernel/magics/README.md"
    }
   ],
   "mimetype": "text/x-octave",
   "name": "octave",
   "version": "4.4.0"
  }
 },
 "nbformat": 4,
 "nbformat_minor": 2
}
