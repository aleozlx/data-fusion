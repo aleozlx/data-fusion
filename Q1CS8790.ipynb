{
 "cells": [
  {
   "cell_type": "markdown",
   "metadata": {},
   "source": [
    "1) yes"
   ]
  },
  {
   "cell_type": "code",
   "execution_count": 1,
   "metadata": {
    "scrolled": true
   },
   "outputs": [
    {
     "name": "stdout",
     "output_type": "stream",
     "text": [
      "ans =\n",
      "\n",
      "   0   0   0\n",
      "   0   0   0\n",
      "   0   0   0\n",
      "\n",
      "ans =\n",
      "\n",
      "  -2.6509e-15\n",
      "   4.3043e-16\n",
      "   1.4000e+01\n",
      "\n"
     ]
    }
   ],
   "source": [
    "A1 = [4 2 6; 2 1 3; 6 3 9];\n",
    "A1 - A1'\n",
    "eig(A1)"
   ]
  },
  {
   "cell_type": "markdown",
   "metadata": {},
   "source": [
    "2) yes"
   ]
  },
  {
   "cell_type": "code",
   "execution_count": 2,
   "metadata": {},
   "outputs": [
    {
     "name": "stdout",
     "output_type": "stream",
     "text": [
      "ans =\n",
      "\n",
      "   0   0   0\n",
      "   0   0   0\n",
      "   0   0   0\n",
      "\n",
      "ans =\n",
      "\n",
      "    0.082486\n",
      "    6.747761\n",
      "   16.169753\n",
      "\n"
     ]
    }
   ],
   "source": [
    "A2 = [7 -2 -6; -2 4 -3; -6 -3 12];\n",
    "A2 - A2'\n",
    "eig(A2)"
   ]
  },
  {
   "cell_type": "markdown",
   "metadata": {},
   "source": [
    "3) No. This is not even symmetric."
   ]
  },
  {
   "cell_type": "code",
   "execution_count": 3,
   "metadata": {},
   "outputs": [
    {
     "name": "stdout",
     "output_type": "stream",
     "text": [
      "ans =\n",
      "\n",
      "   0   0   2  -2\n",
      "   0   0   0   0\n",
      "  -2   0   0   0\n",
      "   2   0   0   0\n",
      "\n"
     ]
    }
   ],
   "source": [
    "A3 = [7 -2 -1 -3; -2 7 -1 -3; -3 -1 7 -2; -1 -3 -2 7];\n",
    "A3 - A3'"
   ]
  },
  {
   "cell_type": "markdown",
   "metadata": {},
   "source": [
    "4) Yes."
   ]
  },
  {
   "cell_type": "code",
   "execution_count": 4,
   "metadata": {},
   "outputs": [
    {
     "name": "stdout",
     "output_type": "stream",
     "text": [
      "ans =\n",
      "\n",
      "   0\n",
      "   4\n",
      "\n"
     ]
    }
   ],
   "source": [
    "A4 = [3 -2; -2 3];\n",
    "B4 = eye(2);\n",
    "eig(A4-B4)"
   ]
  },
  {
   "cell_type": "markdown",
   "metadata": {},
   "source": [
    "5) No. Because $A-B$ is not PSD."
   ]
  },
  {
   "cell_type": "code",
   "execution_count": 5,
   "metadata": {},
   "outputs": [
    {
     "name": "stdout",
     "output_type": "stream",
     "text": [
      "ans =\n",
      "\n",
      "  -1.00000\n",
      "   5.00000\n",
      "\n"
     ]
    }
   ],
   "source": [
    "A5 = [4 3; 3 4];\n",
    "B5 = eye(2) * 2;\n",
    "eig(A5-B5)"
   ]
  },
  {
   "cell_type": "code",
   "execution_count": null,
   "metadata": {},
   "outputs": [],
   "source": []
  }
 ],
 "metadata": {
  "kernelspec": {
   "display_name": "Octave",
   "language": "octave",
   "name": "octave"
  },
  "language_info": {
   "file_extension": ".m",
   "help_links": [
    {
     "text": "GNU Octave",
     "url": "https://www.gnu.org/software/octave/support.html"
    },
    {
     "text": "Octave Kernel",
     "url": "https://github.com/Calysto/octave_kernel"
    },
    {
     "text": "MetaKernel Magics",
     "url": "https://github.com/calysto/metakernel/blob/master/metakernel/magics/README.md"
    }
   ],
   "mimetype": "text/x-octave",
   "name": "octave",
   "version": "4.4.0"
  }
 },
 "nbformat": 4,
 "nbformat_minor": 2
}
