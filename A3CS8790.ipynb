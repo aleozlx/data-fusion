{
 "cells": [
  {
   "cell_type": "markdown",
   "metadata": {},
   "source": [
    "# Load calibration dataset\n",
    "\n",
    "The first step is to load the dataset from file.\n",
    "There are 10000 samples."
   ]
  },
  {
   "cell_type": "code",
   "execution_count": 1,
   "metadata": {},
   "outputs": [
    {
     "name": "stdout",
     "output_type": "stream",
     "text": [
      "ans =\n",
      "\n",
      "   10000       3\n",
      "\n"
     ]
    }
   ],
   "source": [
    "DATA = load(\"-ascii\", \"A3-CalibrationData.txt\");\n",
    "size(DATA)"
   ]
  },
  {
   "cell_type": "code",
   "execution_count": 2,
   "metadata": {},
   "outputs": [
    {
     "name": "stdout",
     "output_type": "stream",
     "text": [
      "ans =\n",
      "\n",
      "   3.03525   0.99915   4.16749\n",
      "   3.03547   1.00464   4.16423\n",
      "   3.03484   1.00170   4.16629\n",
      "   3.03664   0.99824   4.16624\n",
      "   3.03848   1.00191   4.16640\n",
      "\n"
     ]
    }
   ],
   "source": [
    "DATA(1:5, :)"
   ]
  },
  {
   "cell_type": "markdown",
   "metadata": {},
   "source": [
    "# Descriptive statistics\n",
    "\n",
    "Here are some statistics about this dataset."
   ]
  },
  {
   "cell_type": "code",
   "execution_count": 3,
   "metadata": {},
   "outputs": [
    {
     "name": "stdout",
     "output_type": "stream",
     "text": [
      "m =\n",
      "\n",
      "   3.0357   1.0020   4.1667\n",
      "\n"
     ]
    }
   ],
   "source": [
    "m = mean(DATA)"
   ]
  },
  {
   "cell_type": "markdown",
   "metadata": {},
   "source": [
    "# Bias and error covariance of the sensor\n"
   ]
  },
  {
   "cell_type": "code",
   "execution_count": 4,
   "metadata": {},
   "outputs": [
    {
     "name": "stdout",
     "output_type": "stream",
     "text": [
      "bias =\n",
      "\n",
      "   0.0357080   0.0020257   0.1666624\n",
      "\n",
      "covariance =\n",
      "\n",
      "   0.0000039468200   0.0000000013567   0.0000000060077\n",
      "   0.0000000013567   0.0000040528347  -0.0000000027171\n",
      "   0.0000000060077  -0.0000000027171   0.0000040671221\n",
      "\n"
     ]
    }
   ],
   "source": [
    "bias = m - [3.0, 1.0, 4.0]\n",
    "covariance = cov(DATA)"
   ]
  },
  {
   "cell_type": "markdown",
   "metadata": {},
   "source": [
    "# Final Estimate"
   ]
  },
  {
   "cell_type": "code",
   "execution_count": 5,
   "metadata": {},
   "outputs": [
    {
     "name": "stdout",
     "output_type": "stream",
     "text": [
      "estimate =\n",
      "\n",
      "   2.68429   4.82797  -0.99666\n",
      "\n"
     ]
    }
   ],
   "source": [
    "estimate = [2.72, 4.83, -0.83] - bias"
   ]
  },
  {
   "cell_type": "code",
   "execution_count": null,
   "metadata": {},
   "outputs": [],
   "source": []
  }
 ],
 "metadata": {
  "kernelspec": {
   "display_name": "Octave",
   "language": "octave",
   "name": "octave"
  },
  "language_info": {
   "file_extension": ".m",
   "help_links": [
    {
     "text": "GNU Octave",
     "url": "https://www.gnu.org/software/octave/support.html"
    },
    {
     "text": "Octave Kernel",
     "url": "https://github.com/Calysto/octave_kernel"
    },
    {
     "text": "MetaKernel Magics",
     "url": "https://github.com/calysto/metakernel/blob/master/metakernel/magics/README.md"
    }
   ],
   "mimetype": "text/x-octave",
   "name": "octave",
   "version": "4.4.1"
  }
 },
 "nbformat": 4,
 "nbformat_minor": 2
}
