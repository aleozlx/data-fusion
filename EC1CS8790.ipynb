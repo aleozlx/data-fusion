{
 "cells": [
  {
   "cell_type": "markdown",
   "metadata": {},
   "source": [
    "# Load calibration dataset"
   ]
  },
  {
   "cell_type": "code",
   "execution_count": 1,
   "metadata": {},
   "outputs": [
    {
     "name": "stdout",
     "output_type": "stream",
     "text": [
      "ans =\n",
      "\n",
      "        1   750000\n",
      "\n"
     ]
    }
   ],
   "source": [
    "_DATA = load(\"-ascii\", \"EC1-Measurements.txt\");\n",
    "size(_DATA)"
   ]
  },
  {
   "cell_type": "code",
   "execution_count": 2,
   "metadata": {},
   "outputs": [
    {
     "name": "stdout",
     "output_type": "stream",
     "text": [
      "N =  250000\n",
      "_ =  3\n"
     ]
    }
   ],
   "source": [
    "DATA = reshape(_DATA, 3, [])';\n",
    "[N, _] = size(DATA)"
   ]
  },
  {
   "cell_type": "code",
   "execution_count": 3,
   "metadata": {},
   "outputs": [
    {
     "name": "stdout",
     "output_type": "stream",
     "text": [
      "m_true =\n",
      "\n",
      "    11.700   140.200    33.500\n",
      "\n",
      "m_data =\n",
      "\n",
      "    11.707   140.207    33.502\n",
      "\n"
     ]
    }
   ],
   "source": [
    "m_true = [11.7 140.2 33.5]\n",
    "m_data = mean(DATA) % make sure DATA is not garbage, being loaded this way"
   ]
  },
  {
   "cell_type": "markdown",
   "metadata": {},
   "source": [
    "# Covariance matrix"
   ]
  },
  {
   "cell_type": "code",
   "execution_count": 4,
   "metadata": {},
   "outputs": [
    {
     "name": "stdout",
     "output_type": "stream",
     "text": [
      "c_theory =\n",
      "\n",
      "   4   2  -1\n",
      "   2   4   2\n",
      "  -1   2   4\n",
      "\n",
      "c_data =\n",
      "\n",
      "   3.98475   1.98899  -0.99789\n",
      "   1.98899   3.99004   2.00644\n",
      "  -0.99789   2.00644   4.00510\n",
      "\n"
     ]
    }
   ],
   "source": [
    "c_theory = [4 2 -1; 2 4 2; -1 2 4]\n",
    "\n",
    "% sample error covariance matrix \n",
    "c_data = zeros(3);\n",
    "for i=1:N\n",
    "  c_data += (DATA(i,:) - m_true)'*(DATA(i,:) - m_true);\n",
    "end\n",
    "c_data ./= N-1"
   ]
  },
  {
   "cell_type": "markdown",
   "metadata": {},
   "source": [
    "The theoretical covariance is **NOT** conservative because the inequality $C_\\text{theory} \\ge C_\\text{data}$ does not hold.\n",
    "In fact $(C_\\text{theory} - C_\\text{data})$ is not PSD, but has one negative eigen value."
   ]
  },
  {
   "cell_type": "code",
   "execution_count": 5,
   "metadata": {},
   "outputs": [
    {
     "name": "stdout",
     "output_type": "stream",
     "text": [
      "ans =\n",
      "\n",
      "  -0.0076832\n",
      "   0.0027852\n",
      "   0.0250044\n",
      "\n"
     ]
    }
   ],
   "source": [
    "eig(c_theory - c_data)"
   ]
  },
  {
   "cell_type": "code",
   "execution_count": null,
   "metadata": {},
   "outputs": [],
   "source": []
  }
 ],
 "metadata": {
  "kernelspec": {
   "display_name": "Octave",
   "language": "octave",
   "name": "octave"
  },
  "language_info": {
   "file_extension": ".m",
   "help_links": [
    {
     "text": "GNU Octave",
     "url": "https://www.gnu.org/software/octave/support.html"
    },
    {
     "text": "Octave Kernel",
     "url": "https://github.com/Calysto/octave_kernel"
    },
    {
     "text": "MetaKernel Magics",
     "url": "https://github.com/calysto/metakernel/blob/master/metakernel/magics/README.md"
    }
   ],
   "mimetype": "text/x-octave",
   "name": "octave",
   "version": "4.4.0"
  }
 },
 "nbformat": 4,
 "nbformat_minor": 2
}
