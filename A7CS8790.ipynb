{
 "cells": [
  {
   "cell_type": "markdown",
   "metadata": {},
   "source": [
    "## Target 1"
   ]
  },
  {
   "cell_type": "code",
   "execution_count": 1,
   "metadata": {},
   "outputs": [
    {
     "name": "stdout",
     "output_type": "stream",
     "text": [
      "n =  1200\n",
      "_ =  6\n"
     ]
    }
   ],
   "source": [
    "DATA = load(\"-ascii\", \"data/Target1.txt\");\n",
    "[n, _] = size(DATA)\n",
    "d = 4; % dim(state variable)\n",
    "t0 = 0;\n",
    "x = zeros(d, 1);\n",
    "P = 100 * eye(d);\n",
    "Q = zeros(d, d); % constant velocity is assumed\n",
    "H = [eye(2) zeros(2, 2)]; % just a projection to remove the velocities\n",
    "Nv = zeros(n, d/2);\n",
    "\n",
    "function [x_next P_next] = motion(x, P, dt, Q)\n",
    "  [d, _] = size(x);\n",
    "  F = [eye(d/2) (eye(d/2) * dt); zeros(d/2, d/2) eye(d/2)];\n",
    "  x_next = F*x;\n",
    "  P_next = F*P*F'+Q;\n",
    "endfunction\n",
    "\n",
    "function [x_new P_new nv S] = fuse(x, P, z, R, H)\n",
    "  S = H * P * H' + R;\n",
    "  W = P * H' * inv(S);\n",
    "  nv = z - H * x;\n",
    "  x_new = x + W * nv;\n",
    "  P_new = P - W * S * W';\n",
    "endfunction\n",
    "\n",
    "for idx=1:n\n",
    "  % observation\n",
    "  t = DATA(idx, 1);\n",
    "  z = DATA(idx, 2:3)';\n",
    "  M = [DATA(idx, 4) DATA(idx, 5); DATA(idx, 5) DATA(idx, 6)];\n",
    "  R = M*M;\n",
    "  % forward prediction using motion model\n",
    "  [x_next P_next] = motion(x, P, t-t0, Q);\n",
    "  t0 = t;\n",
    "  % fused estimate\n",
    "  [x P nv S] = fuse(x_next, P_next, z, R, H);\n",
    "  Nv(idx, :) = nv ./ sqrt(diag(S));\n",
    "endfor"
   ]
  },
  {
   "cell_type": "markdown",
   "metadata": {},
   "source": [
    "### Final estimate"
   ]
  },
  {
   "cell_type": "code",
   "execution_count": 2,
   "metadata": {},
   "outputs": [
    {
     "name": "stdout",
     "output_type": "stream",
     "text": [
      "state variables & standard deviations:\n",
      "\tx = 497.151056 +/- 0.001344\n",
      "\ty = 1050.181365 +/- 0.002409\n",
      "\tvx = 0.279999 +/- 0.0000022012\n",
      "\tvy = 0.599999 +/- 0.0000024667\n",
      "mean:\n",
      "    497.15106\n",
      "   1050.18136\n",
      "      0.28000\n",
      "      0.60000\n",
      "covariance:\n",
      "   1.8058e-06   2.3939e-06   2.8694e-09   2.7689e-09\n",
      "   2.3939e-06   5.8050e-06   3.8279e-09   5.5033e-09\n",
      "   2.8698e-09   3.8279e-09   4.8452e-12   4.6079e-12\n",
      "   2.7689e-09   5.5038e-09   4.6079e-12   6.0847e-12\n"
     ]
    }
   ],
   "source": [
    "disp('state variables & standard deviations:');\n",
    "printf(\"\\tx = %f +/- %f\\n\", x(1), sqrt(P(1,1)));\n",
    "printf(\"\\ty = %f +/- %f\\n\", x(2), sqrt(P(2,2)));\n",
    "printf(\"\\tvx = %f +/- %.10f\\n\", x(3), sqrt(P(3,3)));\n",
    "printf(\"\\tvy = %f +/- %.10f\\n\", x(4), sqrt(P(4,4)));\n",
    "disp('mean:'), disp(x)\n",
    "disp('covariance:'), disp(P)"
   ]
  },
  {
   "cell_type": "markdown",
   "metadata": {},
   "source": [
    "### 1hrs later"
   ]
  },
  {
   "cell_type": "code",
   "execution_count": 3,
   "metadata": {},
   "outputs": [
    {
     "name": "stdout",
     "output_type": "stream",
     "text": [
      "state variables & standard deviations:\n",
      "\tx = 1505.147348 +/- 0.009234\n",
      "\ty = 3210.178732 +/- 0.011148\n",
      "\tvx = 0.279999 +/- 0.0000022012\n",
      "\tvy = 0.599999 +/- 0.0000024667\n",
      "mean:\n",
      "   1505.14735\n",
      "   3210.17873\n",
      "      0.28000\n",
      "      0.60000\n",
      "covariance:\n",
      "   8.5260e-05   8.5861e-05   2.0312e-08   1.9357e-08\n",
      "   8.5861e-05   1.2429e-04   2.0416e-08   2.7408e-08\n",
      "   2.0312e-08   2.0416e-08   4.8452e-12   4.6079e-12\n",
      "   1.9357e-08   2.7409e-08   4.6079e-12   6.0847e-12\n"
     ]
    }
   ],
   "source": [
    "[x_1h, P_1h] = motion(x, P, 3600, Q);\n",
    "disp('state variables & standard deviations:');\n",
    "printf(\"\\tx = %f +/- %f\\n\", x_1h(1), sqrt(P_1h(1,1)));\n",
    "printf(\"\\ty = %f +/- %f\\n\", x_1h(2), sqrt(P_1h(2,2)));\n",
    "printf(\"\\tvx = %f +/- %.10f\\n\", x_1h(3), sqrt(P_1h(3,3)));\n",
    "printf(\"\\tvy = %f +/- %.10f\\n\", x_1h(4), sqrt(P_1h(4,4)));\n",
    "disp('mean:'), disp(x_1h)\n",
    "disp('covariance:'), disp(P_1h)"
   ]
  },
  {
   "cell_type": "markdown",
   "metadata": {},
   "source": [
    "### Innovations"
   ]
  },
  {
   "cell_type": "code",
   "execution_count": 4,
   "metadata": {},
   "outputs": [
    {
     "name": "stdout",
     "output_type": "stream",
     "text": [
      "mean:\n",
      "-0.015638\n",
      "variance:\n",
      " 0.96976\n"
     ]
    },
    {
     "data": {
      "image/png": "[encoded data removed]",
      "text/plain": [
       "<IPython.core.display.Image object>"
      ]
     },
     "metadata": {},
     "output_type": "display_data"
    }
   ],
   "source": [
    "# x innovations\n",
    "plot(2:idx-1, Nv(2:idx-1, 1))\n",
    "disp('mean:'), disp(mean(Nv(:,1)));\n",
    "disp('variance:'), disp(cov(Nv(:,1)));"
   ]
  },
  {
   "cell_type": "code",
   "execution_count": 5,
   "metadata": {},
   "outputs": [
    {
     "name": "stdout",
     "output_type": "stream",
     "text": [
      "mean:\n",
      "-0.0067019\n",
      "variance:\n",
      " 0.98268\n"
     ]
    },
    {
     "data": {
      "image/png": "[encoded data removed]",
      "text/plain": [
       "<IPython.core.display.Image object>"
      ]
     },
     "metadata": {},
     "output_type": "display_data"
    }
   ],
   "source": [
    "# y innovations\n",
    "plot(2:idx-1, Nv(2:idx-1, 2))\n",
    "disp('mean:'), disp(mean(Nv(:,2)));\n",
    "disp('variance:'), disp(cov(Nv(:,2)));"
   ]
  },
  {
   "cell_type": "markdown",
   "metadata": {},
   "source": [
    "## Target 2"
   ]
  },
  {
   "cell_type": "code",
   "execution_count": 6,
   "metadata": {},
   "outputs": [
    {
     "name": "stdout",
     "output_type": "stream",
     "text": [
      "n =  1200\n",
      "_ =  6\n"
     ]
    }
   ],
   "source": [
    "DATA = load(\"-ascii\", \"data/Target2.txt\");\n",
    "[n, _] = size(DATA)\n",
    "d = 4; % dim(state variable)\n",
    "t0 = 0;\n",
    "x = zeros(d, 1);\n",
    "P = 100 * eye(d);\n",
    "Q = zeros(d, d); % constant velocity is assumed\n",
    "H = [eye(2) zeros(2, 2)]; % just a projection to remove the velocities\n",
    "Nv = zeros(n, d/2);\n",
    "\n",
    "for idx=1:n\n",
    "  % observation\n",
    "  t = DATA(idx, 1);\n",
    "  z = DATA(idx, 2:3)';\n",
    "  M = [DATA(idx, 4) DATA(idx, 5); DATA(idx, 5) DATA(idx, 6)];\n",
    "  R = M*M;\n",
    "  % forward prediction using motion model\n",
    "  [x_next P_next] = motion(x, P, t-t0, Q);\n",
    "  t0 = t;\n",
    "  % fused estimate\n",
    "  [x P nv S] = fuse(x_next, P_next, z, R, H);\n",
    "  Nv(idx, :) = nv ./ sqrt(diag(S));\n",
    "endfor"
   ]
  },
  {
   "cell_type": "markdown",
   "metadata": {},
   "source": [
    "### Final estimate"
   ]
  },
  {
   "cell_type": "code",
   "execution_count": 7,
   "metadata": {},
   "outputs": [
    {
     "name": "stdout",
     "output_type": "stream",
     "text": [
      "state variables & standard deviations:\n",
      "\tx = -888.231787 +/- 0.002971\n",
      "\ty = 504.694174 +/- 0.002920\n",
      "\tvx = -0.495836 +/- 0.0000031798\n",
      "\tvy = 0.281843 +/- 0.0000024759\n",
      "mean:\n",
      "  -888.23179\n",
      "   504.69417\n",
      "    -0.49584\n",
      "     0.28184\n",
      "covariance:\n",
      "   8.8276e-06   4.7746e-06   9.1342e-09   5.3653e-09\n",
      "   4.7747e-06   8.5281e-06   5.5151e-09   6.8385e-09\n",
      "   9.1351e-09   5.5151e-09   1.0111e-11   6.3227e-12\n",
      "   5.3653e-09   6.8376e-09   6.3227e-12   6.1301e-12\n"
     ]
    }
   ],
   "source": [
    "disp('state variables & standard deviations:');\n",
    "printf(\"\\tx = %f +/- %f\\n\", x(1), sqrt(P(1,1)));\n",
    "printf(\"\\ty = %f +/- %f\\n\", x(2), sqrt(P(2,2)));\n",
    "printf(\"\\tvx = %f +/- %.10f\\n\", x(3), sqrt(P(3,3)));\n",
    "printf(\"\\tvy = %f +/- %.10f\\n\", x(4), sqrt(P(4,4)));\n",
    "disp('mean:'), disp(x)\n",
    "disp('covariance:'), disp(P)"
   ]
  },
  {
   "cell_type": "markdown",
   "metadata": {},
   "source": [
    "### 1hrs later"
   ]
  },
  {
   "cell_type": "code",
   "execution_count": 8,
   "metadata": {},
   "outputs": [
    {
     "name": "stdout",
     "output_type": "stream",
     "text": [
      "state variables & standard deviations:\n",
      "\tx = -2673.241010 +/- 0.014340\n",
      "\ty = 1519.327825 +/- 0.011714\n",
      "\tvx = -0.495836 +/- 0.0000031798\n",
      "\tvy = 0.281843 +/- 0.0000024759\n",
      "mean:\n",
      "  -2673.24101\n",
      "   1519.32782\n",
      "     -0.49584\n",
      "      0.28184\n",
      "covariance:\n",
      "   2.0564e-04   1.2589e-04   4.5535e-08   2.8127e-08\n",
      "   1.2589e-04   1.3721e-04   2.8277e-08   2.8907e-08\n",
      "   4.5535e-08   2.8277e-08   1.0111e-11   6.3227e-12\n",
      "   2.8127e-08   2.8906e-08   6.3227e-12   6.1301e-12\n"
     ]
    }
   ],
   "source": [
    "[x_1h, P_1h] = motion(x, P, 3600, Q);\n",
    "disp('state variables & standard deviations:');\n",
    "printf(\"\\tx = %f +/- %f\\n\", x_1h(1), sqrt(P_1h(1,1)));\n",
    "printf(\"\\ty = %f +/- %f\\n\", x_1h(2), sqrt(P_1h(2,2)));\n",
    "printf(\"\\tvx = %f +/- %.10f\\n\", x_1h(3), sqrt(P_1h(3,3)));\n",
    "printf(\"\\tvy = %f +/- %.10f\\n\", x_1h(4), sqrt(P_1h(4,4)));\n",
    "disp('mean:'), disp(x_1h)\n",
    "disp('covariance:'), disp(P_1h)"
   ]
  },
  {
   "cell_type": "markdown",
   "metadata": {},
   "source": [
    "### Innovations"
   ]
  },
  {
   "cell_type": "code",
   "execution_count": 9,
   "metadata": {},
   "outputs": [
    {
     "name": "stdout",
     "output_type": "stream",
     "text": [
      "mean:\n",
      "-0.88740\n",
      "variance:\n",
      " 24.791\n"
     ]
    },
    {
     "data": {
      "image/png": "[encoded data removed]",
      "text/plain": [
       "<IPython.core.display.Image object>"
      ]
     },
     "metadata": {},
     "output_type": "display_data"
    }
   ],
   "source": [
    "# x innovations\n",
    "plot(2:idx-1, Nv(2:idx-1, 1))\n",
    "disp('mean:'), disp(mean(Nv(:,1)));\n",
    "disp('variance:'), disp(cov(Nv(:,1)));"
   ]
  },
  {
   "cell_type": "code",
   "execution_count": 10,
   "metadata": {},
   "outputs": [
    {
     "data": {
      "image/png": "[encoded data removed]",
      "text/plain": [
       "<IPython.core.display.Image object>"
      ]
     },
     "metadata": {},
     "output_type": "display_data"
    }
   ],
   "source": [
    "plot(2:idx-1, Nv(2:idx-1, 1))\n",
    "ylim([-10 10])"
   ]
  },
  {
   "cell_type": "code",
   "execution_count": 11,
   "metadata": {},
   "outputs": [
    {
     "name": "stdout",
     "output_type": "stream",
     "text": [
      "mean:\n",
      "-1.6950\n",
      "variance:\n",
      " 27.959\n"
     ]
    },
    {
     "data": {
      "image/png": "[encoded data removed]",
      "text/plain": [
       "<IPython.core.display.Image object>"
      ]
     },
     "metadata": {},
     "output_type": "display_data"
    }
   ],
   "source": [
    "# y innovations\n",
    "plot(2:idx-1, Nv(2:idx-1, 2))\n",
    "disp('mean:'), disp(mean(Nv(:,2)));\n",
    "disp('variance:'), disp(cov(Nv(:,2)));"
   ]
  },
  {
   "cell_type": "code",
   "execution_count": 12,
   "metadata": {},
   "outputs": [
    {
     "data": {
      "image/png": "[encoded data removed]",
      "text/plain": [
       "<IPython.core.display.Image object>"
      ]
     },
     "metadata": {},
     "output_type": "display_data"
    }
   ],
   "source": [
    "plot(2:idx-1, Nv(2:idx-1, 2))\n",
    "ylim([-15 15])"
   ]
  },
  {
   "cell_type": "markdown",
   "metadata": {},
   "source": [
    "## Final assessment\n",
    "\n",
    "The filter responded very predictably as expected to target 1, where the innovations have 0 mean and variance of 1.\n",
    "\n",
    "For target2, the innovations have shown anomalies with many spikes and their variances are high. The average mean of innovation is not close to zero at all.\n",
    "\n",
    "For this assignment, I have used $Q=0$ throughout because the assumption was that the target should be traveling at a constant velocity.\n",
    "If that was true, there should not be a Q necessary to cover for any non-linearity, as there should be none in the system.\n",
    "Regarding the anomalies shown for target 2, I believe it is firstly due to the unbiased and conservative assumption has been broken; secondly\n",
    "maybe the target was not traveling at a constant velocity or there was noise involved in the observations, and in any case, $Q=0$ would not be admissible to compensate for that non-linearity. I think that would explain why the filter has performed very poorly on target 2."
   ]
  },
  {
   "cell_type": "code",
   "execution_count": null,
   "metadata": {},
   "outputs": [],
   "source": []
  }
 ],
 "metadata": {
  "kernelspec": {
   "display_name": "Octave",
   "language": "octave",
   "name": "octave"
  },
  "language_info": {
   "file_extension": ".m",
   "help_links": [
    {
     "text": "GNU Octave",
     "url": "https://www.gnu.org/software/octave/support.html"
    },
    {
     "text": "Octave Kernel",
     "url": "https://github.com/Calysto/octave_kernel"
    },
    {
     "text": "MetaKernel Magics",
     "url": "https://github.com/calysto/metakernel/blob/master/metakernel/magics/README.md"
    }
   ],
   "mimetype": "text/x-octave",
   "name": "octave",
   "version": "4.4.1"
  }
 },
 "nbformat": 4,
 "nbformat_minor": 2
}
